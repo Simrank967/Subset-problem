{
  "nbformat": 4,
  "nbformat_minor": 0,
  "metadata": {
    "colab": {
      "provenance": []
    },
    "kernelspec": {
      "name": "python3",
      "display_name": "Python 3"
    },
    "language_info": {
      "name": "python"
    }
  },
  "cells": [
    {
      "cell_type": "code",
      "execution_count": 12,
      "metadata": {
        "colab": {
          "base_uri": "https://localhost:8080/"
        },
        "id": "8T2NRiTT9fUK",
        "outputId": "2aafdef9-7e7b-48c6-8596-a11584b5b021"
      },
      "outputs": [
        {
          "output_type": "stream",
          "name": "stdout",
          "text": [
            "(-12, -6, 2, 7, 9)\n",
            "(-7, -4, -3, 3, 11)\n",
            "(-8, -4, -3, 6, 9)\n",
            "(-12, -2, 1, 6, 7)\n",
            "(-6, -4, -3, 6, 7)\n",
            "(-8, -6, -2, 7, 9)\n",
            "(-12, 1, 2, 3, 6)\n",
            "(-4, -2, 1, 2, 3)\n",
            "(-6, -5, -3, 3, 11)\n",
            "(-5, -3, -2, 3, 7)\n",
            "(-6, -5, -2, 2, 11)\n",
            "(-8, -4, -2, 3, 11)\n",
            "(-9, -5, -2, 7, 9)\n",
            "(-4, -3, -2, 2, 7)\n",
            "(-12, -7, 3, 7, 9)\n",
            "(-8, -5, 1, 3, 9)\n",
            "(-8, -3, -2, 2, 11)\n",
            "(-6, -5, -4, 6, 9)\n",
            "(-7, -6, -3, 7, 9)\n",
            "(-12, -5, -3, 9, 11)\n",
            "(-9, -6, 1, 3, 11)\n",
            "(-5, -4, -2, 2, 9)\n",
            "(-5, -4, -3, 3, 9)\n",
            "(-12, -8, 2, 7, 11)\n",
            "(-7, -6, -4, 6, 11)\n",
            "(-12, -7, 1, 7, 11)\n",
            "(-9, -3, -2, 3, 11)\n",
            "size of result list:-  27\n"
          ]
        }
      ],
      "source": [
        "import random as r\n",
        "array=set([-12,-3,-6,7,2,-2,6,3,9,-7,-5,-8,1,11,-9,-4])\n",
        "size=5\n",
        "result=set()\n",
        "iterations=1000\n",
        "\n",
        "for i in range(iterations):\n",
        " sets= r.sample(list(array),size)\n",
        " sets.sort()\n",
        " if sum(sets)==0 :\n",
        "   result.add(tuple(sets))\n",
        "\n",
        "for s in result:\n",
        "  print(s)\n",
        "\n",
        "print(\"size of result list:- \",len(result))"
      ]
    }
  ]
}