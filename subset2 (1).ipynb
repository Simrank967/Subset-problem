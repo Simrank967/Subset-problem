{
  "nbformat": 4,
  "nbformat_minor": 0,
  "metadata": {
    "colab": {
      "provenance": []
    },
    "kernelspec": {
      "name": "python3",
      "display_name": "Python 3"
    },
    "language_info": {
      "name": "python"
    }
  },
  "cells": [
    {
      "cell_type": "code",
      "execution_count": null,
      "metadata": {
        "colab": {
          "base_uri": "https://localhost:8080/"
        },
        "id": "VFZ3daaVGWst",
        "outputId": "1db2d931-2b75-4c4c-b86e-b9dbc752478a"
      },
      "outputs": [
        {
          "output_type": "stream",
          "name": "stdout",
          "text": [
            "(-12, -5, 6, 11)\n",
            "(-8, -4, 1, 11)\n",
            "(-9, -6, -4, 2, 6, 11)\n",
            "(-9, -7, -4, 2, 7, 11)\n",
            "(-12, -3, 1, 2, 3, 9)\n",
            "(-6, -4, 3, 7)\n",
            "(-7, -5, -4, 2, 3, 11)\n",
            "(-8, -2, 3, 7)\n",
            "(-6, -4, 1, 3, 6)\n",
            "(-9, -5, -4, 1, 6, 11)\n",
            "(-9, -6, -3, 3, 6, 9)\n",
            "(-8, -3, -2, 6, 7)\n",
            "(-8, -6, -3, 6, 11)\n",
            "(-4, -3, -2, 2, 7)\n",
            "(-12, -8, -4, 6, 7, 11)\n",
            "(-5, -4, 9)\n",
            "(-7, -6, 2, 11)\n",
            "(-7, 1, 6)\n",
            "(-9, 3, 6)\n",
            "(-7, -2, 2, 7)\n",
            "(-3, 1, 2)\n",
            "size of result list:-  21\n"
          ]
        }
      ],
      "source": [
        "import random as r\n",
        "array=set([-12,-3,-6,7,2,-2,6,3,9,-7,-5,-8,1,11,-9,-4])\n",
        "upper=6\n",
        "lower=3\n",
        "result=set()\n",
        "iterations=1000\n",
        "\n",
        "for i in range(iterations):\n",
        " size=r.randint(lower,upper)\n",
        " sets= r.sample(list(array),size)\n",
        " sets.sort()\n",
        " if sum(sets)==0 :\n",
        "   result.add(tuple(sets))\n",
        "\n",
        "for s in result:\n",
        "  print(s)\n",
        "\n",
        "print(\"size of result list:- \",len(result))"
      ]
    }
  ]
}